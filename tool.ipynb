{
 "cells": [
  {
   "cell_type": "code",
   "execution_count": 2,
   "metadata": {},
   "outputs": [
    {
     "name": "stdout",
     "output_type": "stream",
     "text": [
      "Similarity Index: [0.37140624 0.34053721 0.30943748 0.6786083 ]\n"
     ]
    }
   ],
   "source": [
    "from sklearn.feature_extraction.text import TfidfVectorizer\n",
    "from sklearn.metrics.pairwise import cosine_similarity\n",
    "\n",
    "def calculate_similarity(input_question, question_list):\n",
    "    # Assuming question_list is a list of question texts\n",
    "    texts = [input_question] + question_list\n",
    "\n",
    "    vectorizer = TfidfVectorizer()\n",
    "    vectors = vectorizer.fit_transform(texts)\n",
    "\n",
    "    similarity_matrix = cosine_similarity(vectors)\n",
    "    similarity_index = similarity_matrix[0, 1:]\n",
    "\n",
    "    return similarity_index\n",
    "\n",
    "\n",
    "\n",
    "input_question = \"Explain brief about the tcp/ip model\"\n",
    "question_list = [\n",
    "        \"Explain Tcp/ip model in detail by diagram.\",\n",
    "        \"Discuss tcp/ip  reference model.\",\n",
    "        \"write about tcp/ip with diagram\",\n",
    "        \"Explain brief about the tajmahal\",\n",
    "]\n",
    "\n",
    "similarity_index = calculate_similarity(input_question, question_list)\n",
    "\n",
    "print(\"Similarity Index:\", similarity_index)"
   ]
  },
  {
   "cell_type": "code",
   "execution_count": 5,
   "metadata": {},
   "outputs": [
    {
     "name": "stdout",
     "output_type": "stream",
     "text": [
      "Similarity Scores: [0.775485787633122, 0.9667220584296335, 0.9518746948742477, 0.9809214372742759]\n"
     ]
    }
   ],
   "source": [
    "import spacy\n",
    "\n",
    "def calculate_similarity(input_question, question_list):\n",
    "    nlp = spacy.load(\"en_core_web_md\")\n",
    "    # Process the input question\n",
    "    input_doc = nlp(input_question)\n",
    "\n",
    "    # Process each question in the list and calculate similarity\n",
    "    similarities = []\n",
    "    for question_text in question_list:\n",
    "        question_doc = nlp(question_text)\n",
    "        similarity = input_doc.similarity(question_doc)\n",
    "        similarities.append(similarity)\n",
    "\n",
    "    return similarities\n",
    "\n",
    "\n",
    "\n",
    "input_question = \"Explain brief about the tcp/ip model\"\n",
    "question_list = [\n",
    "        \"Explain Tcp/ip model in detail by diagram.\",\n",
    "        \"Discuss tcp/ip reference model.\",\n",
    "        \"write about tcp/ip with diagram\",\n",
    "        \"Explain brief about the tcp/ip model with examples\",\n",
    "]\n",
    "\n",
    "similarity_scores = calculate_similarity(input_question, question_list)\n",
    "\n",
    "print(\"Similarity Scores:\", similarity_scores)\n"
   ]
  },
  {
   "cell_type": "code",
   "execution_count": 1,
   "metadata": {},
   "outputs": [
    {
     "name": "stdout",
     "output_type": "stream",
     "text": [
      "Question: Explain Tcp/ip model in detail by diagram., Similarity Score: 0.775485787633122\n",
      "Question: Discuss tcp/ip reference model., Similarity Score: 0.9667220584296335\n",
      "Question: write about tajmahal, Similarity Score: 0.20655955009431348\n",
      "Question: Explain brief about the tcp/ip model with examples, Similarity Score: 0.9809214372742759\n",
      "\n",
      "Question with the Least Similarity:\n",
      "Question: write about tajmahal, Similarity Score: 0.20655955009431348\n"
     ]
    }
   ],
   "source": [
    "import spacy\n",
    "\n",
    "def calculate_similarity(input_question, question_list):\n",
    "    nlp = spacy.load(\"en_core_web_md\")\n",
    "\n",
    "    # Process the input question\n",
    "    input_doc = nlp(input_question)\n",
    "\n",
    "    # Process each question in the list and calculate similarity\n",
    "    similarities = []\n",
    "    for question_text in question_list:\n",
    "        question_doc = nlp(question_text)\n",
    "        similarity = input_doc.similarity(question_doc)\n",
    "        similarities.append(similarity)\n",
    "\n",
    "    return similarities\n",
    "\n",
    "\n",
    "input_question = \"Explain brief about the tcp/ip model\"\n",
    "question_list = [\n",
    "    \"Explain Tcp/ip model in detail by diagram.\",\n",
    "    \"Discuss tcp/ip reference model.\",\n",
    "    \"write about tajmahal\",\n",
    "    \"Explain brief about the tcp/ip model with examples\",\n",
    "]\n",
    "\n",
    "similarity_scores = calculate_similarity(input_question, question_list)\n",
    "\n",
    "# Print each question along with its similarity score\n",
    "for i, question_text in enumerate(question_list):\n",
    "    print(f\"Question: {question_text}, Similarity Score: {similarity_scores[i]}\")\n",
    "\n",
    "# Find the index of the question with the least similarity\n",
    "min_similarity_index = min(range(len(similarity_scores)), key=similarity_scores.__getitem__)\n",
    "\n",
    "# Print the question with the least similarity\n",
    "print(\"\\nQuestion with the Least Similarity:\")\n",
    "print(f\"Question: {question_list[min_similarity_index]}, Similarity Score: {similarity_scores[min_similarity_index]}\")\n"
   ]
  },
  {
   "cell_type": "code",
   "execution_count": 14,
   "metadata": {},
   "outputs": [
    {
     "name": "stdout",
     "output_type": "stream",
     "text": [
      "Question: Explain about data preprocessing and how will handle the missing data., Similarity Score: 0.9198680392288853\n",
      "Question: Explain about data preprocessing and the ways to handle the missing data in detail, Similarity Score: 0.9373502981654621\n",
      "Question: write about the handling of missing data in the data preprocessing, Similarity Score: 0.8737080785082603\n",
      "Question: describe brief about the data preprocessing with exaples, Similarity Score: 0.9244985457403512\n",
      "Question: Explain the data cleaining briefly with all ways, Similarity Score: 0.9926194752725529\n",
      "Question: Explain data preprocessing in deep learining, Similarity Score: 0.786148465157999\n",
      "Question: A, Similarity Score: 0.00416598167716795\n",
      "\n",
      "Question with the Least Similarity:\n",
      "Question: A, Similarity Score: 0.00416598167716795\n"
     ]
    }
   ],
   "source": [
    "import spacy\n",
    "\n",
    "def calculate_similarity(input_question, question_list):\n",
    "    nlp = spacy.load(\"en_core_web_md\")\n",
    "\n",
    "    # Process the input question\n",
    "    input_doc = nlp(input_question)\n",
    "\n",
    "    # Process each question in the list and calculate similarity\n",
    "    similarities = []\n",
    "    for question_text in question_list:\n",
    "        question_doc = nlp(question_text)\n",
    "        similarity = input_doc.similarity(question_doc)\n",
    "        similarities.append(similarity)\n",
    "\n",
    "    return similarities\n",
    "\n",
    "\n",
    "input_question = \"Explain the data preprocessing briefly with all ways\"\n",
    "question_list = [\n",
    "    \"Explain about data preprocessing and how will handle the missing data.\",\n",
    "    \"Explain about data preprocessing and the ways to handle the missing data in detail\",\n",
    "    \"write about the handling of missing data in the data preprocessing\",\n",
    "    \"describe brief about the data preprocessing with exaples\",\n",
    "    \"Explain the data cleaining briefly with all ways\",\n",
    "    \"Explain data preprocessing in deep learining\",\n",
    "]\n",
    "\n",
    "similarity_scores = calculate_similarity(input_question, question_list)\n",
    "\n",
    "# Print each question along with its similarity score\n",
    "for i, question_text in enumerate(question_list):\n",
    "    print(f\"Question: {question_text}, Similarity Score: {similarity_scores[i]}\")\n",
    "\n",
    "# Find the index of the question with the least similarity\n",
    "min_similarity_index = min(range(len(similarity_scores)), key=similarity_scores.__getitem__)\n",
    "\n",
    "# Print the question with the least similarity\n",
    "print(\"\\nQuestion with the Least Similarity:\")\n",
    "print(f\"Question: {question_list[min_similarity_index]}, Similarity Score: {similarity_scores[min_similarity_index]}\")\n"
   ]
  }
 ],
 "metadata": {
  "kernelspec": {
   "display_name": "Python 3",
   "language": "python",
   "name": "python3"
  },
  "language_info": {
   "codemirror_mode": {
    "name": "ipython",
    "version": 3
   },
   "file_extension": ".py",
   "mimetype": "text/x-python",
   "name": "python",
   "nbconvert_exporter": "python",
   "pygments_lexer": "ipython3",
   "version": "3.11.4"
  }
 },
 "nbformat": 4,
 "nbformat_minor": 2
}
